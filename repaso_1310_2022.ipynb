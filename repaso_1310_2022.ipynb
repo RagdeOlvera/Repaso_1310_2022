{
  "nbformat": 4,
  "nbformat_minor": 0,
  "metadata": {
    "colab": {
      "name": "repaso_1310_2022.ipynb",
      "provenance": [],
      "authorship_tag": "ABX9TyOeouQwyh23+T9P5KAZE+Mv",
      "include_colab_link": true
    },
    "kernelspec": {
      "name": "python3",
      "display_name": "Python 3"
    },
    "language_info": {
      "name": "python"
    }
  },
  "cells": [
    {
      "cell_type": "markdown",
      "metadata": {
        "id": "view-in-github",
        "colab_type": "text"
      },
      "source": [
        "<a href=\"https://colab.research.google.com/github/RagdeOlvera/Repaso_1310_2022/blob/main/repaso_1310_2022.ipynb\" target=\"_parent\"><img src=\"https://colab.research.google.com/assets/colab-badge.svg\" alt=\"Open In Colab\"/></a>"
      ]
    },
    {
      "cell_type": "markdown",
      "metadata": {
        "id": "3GQFfGRgfXQO"
      },
      "source": [
        "# Repaso de programacion con Python 3\n",
        "\n",
        "#### EDD 1310\n",
        "\n",
        "La funcion print\n",
        "\n",
        "1. utilizando comillas dobles o simples\n",
        "1. utilizando el signo \",\"\n",
        "1. utilizando \"+\"\n",
        "1. utilizando la funcion format\n",
        "1. utilizando el operador f\"\""
      ]
    },
    {
      "cell_type": "code",
      "metadata": {
        "colab": {
          "base_uri": "https://localhost:8080/"
        },
        "id": "xUjxzNcdf0Tc",
        "outputId": "cbb69d81-3d61-497a-a61c-983ac29d74d1"
      },
      "source": [
        "print(\"Hola mundo\")\n",
        "print('Hola mundo')\n",
        "\n",
        "nombre = 'Alejandro'\n",
        "carrera = 'Ingenieria en computación'\n",
        "\n",
        "print(nombre)\n",
        "\n",
        "print(\"Hola\" , nombre)\n",
        "print(\"Hola\" + nombre)\n",
        "\n",
        "print(\"Tu nombre es\", nombre, \"y estudiaste\", carrera)\n",
        "\n",
        "#con format\n",
        "\n",
        "print(\"Tu nombre es {0} y estudiaste {1}\". format( \"Alejandro\", carrera ) )\n",
        "\n",
        "# con el operador f\"\"\n",
        "print(  f\"Tu nombre es {nombre} y estudiaste {carrera}\" )\n",
        "\n",
        "#Salto de linea al final\n",
        "\n",
        "print(nombre , end=\"\")\n",
        "print(\" \", end=\"\")\n",
        "print(carrera, end=\"\")\n"
      ],
      "execution_count": null,
      "outputs": [
        {
          "output_type": "stream",
          "name": "stdout",
          "text": [
            "Hola mundo\n",
            "Hola mundo\n",
            "Alejandro\n",
            "Hola Alejandro\n",
            "HolaAlejandro\n",
            "Tu nombre es Alejandro y estudiaste Ingenieria en computación\n",
            "Tu nombre es Alejandro y estudiaste Ingenieria en computación\n",
            "Tu nombre es Alejandro y estudiaste Ingenieria en computación\n",
            "Alejandro Ingenieria en computación"
          ]
        }
      ]
    },
    {
      "cell_type": "markdown",
      "metadata": {
        "id": "pGpfCei2krxb"
      },
      "source": [
        "## Entrada de datos\n",
        "#### Funncion input()\n",
        "\n",
        "Sirve para pedir datos al usuario,\n",
        "equivalente al scanf del leng \"C\" o a la clase Scanner de Java.\n",
        "\n",
        "siempre regresa un String."
      ]
    },
    {
      "cell_type": "code",
      "metadata": {
        "colab": {
          "base_uri": "https://localhost:8080/"
        },
        "id": "y9E_j47Pk9BF",
        "outputId": "7d394d66-3d8d-4b27-dd27-dc6e4bcd36db"
      },
      "source": [
        "nombre = input(\"Introduce tu nombre \")\n",
        "print(nombre)\n",
        "\n",
        "semestre = input(\"en que semestre estas?\")\n",
        "print(semestre)\n",
        "semestre = int (semestre) + 1 #Aqui se convierte a int\n",
        "print(semestre)\n",
        "semestre = semestre + 1 #Ya es variable int\n",
        "print(semestre)\n",
        "\n",
        "semestre = int ( input(\"Cual es tu semestre:\") )\n",
        "semestre = semestre + 1\n",
        "print (semestre)"
      ],
      "execution_count": null,
      "outputs": [
        {
          "output_type": "stream",
          "name": "stdout",
          "text": [
            "Introduce tu nombre k\n",
            "k\n",
            "en que semestre estas?4\n",
            "4\n",
            "5\n",
            "6\n",
            "Cual es tu semestre:4\n",
            "5\n"
          ]
        }
      ]
    },
    {
      "cell_type": "markdown",
      "metadata": {
        "id": "ZeZrMcx0njMh"
      },
      "source": [
        "###Tarea Moral\n",
        "Investigar los siguientes conceptos en python\n",
        "\n",
        "- operadores\n",
        "\n",
        "  - aritmeticos\n",
        "  - logicos\n",
        "  - booleanos (and, or, Not)\n",
        "\n",
        "- aritmetica\n",
        "\n",
        "  - Asigacion\n",
        "  - agrupacion de ecuaciones con \n",
        "- parentesis ( procedencia de operadores)\n",
        "\n",
        "- Comentarios\n",
        "  - de simple linea \n",
        "  - de linea multiple \n",
        "\n",
        "- Tipos de datos en Python\n"
      ]
    },
    {
      "cell_type": "markdown",
      "metadata": {
        "id": "WaK1rkxJolAp"
      },
      "source": [
        "# Repaso del tipo de dato String (str)\n",
        "\n",
        "Es un tipo de dato muy versatil. Los tipos de dato en python, en realidad son objetos (POO), es decir que tiene atributos y metodos.\n",
        "\n",
        "Los valores internos de un String se almacenan como un arreglo. es decir se accede a los elementos con el operador _[ indice ]_\n"
      ]
    },
    {
      "cell_type": "code",
      "metadata": {
        "colab": {
          "base_uri": "https://localhost:8080/"
        },
        "id": "WgLHIT6qpANh",
        "outputId": "0c7f25c8-e6be-45f3-f871-5259f5b92230"
      },
      "source": [
        "frase = \"El conocimiento me persigue... pero yo soy más rápido!!+\"\n",
        "\n",
        "# Como se almacena la informacion \n",
        "print(frase[ 3 ])\n",
        "\n",
        "print( len( frase ) )\n",
        "\n",
        "print (frase [55])\n",
        "\n",
        "# Indexado negativo\n",
        "print( frase[-8] )\n",
        "\n",
        "# Iterar sobre un String \n",
        "for letra in frase:\n",
        "  print(letra)\n",
        "print(\"fin\")\n"
      ],
      "execution_count": null,
      "outputs": [
        {
          "output_type": "stream",
          "name": "stdout",
          "text": [
            "c\n",
            "56\n",
            "+\n",
            "á\n",
            "E\n",
            "l\n",
            " \n",
            "c\n",
            "o\n",
            "n\n",
            "o\n",
            "c\n",
            "i\n",
            "m\n",
            "i\n",
            "e\n",
            "n\n",
            "t\n",
            "o\n",
            " \n",
            "m\n",
            "e\n",
            " \n",
            "p\n",
            "e\n",
            "r\n",
            "s\n",
            "i\n",
            "g\n",
            "u\n",
            "e\n",
            ".\n",
            ".\n",
            ".\n",
            " \n",
            "p\n",
            "e\n",
            "r\n",
            "o\n",
            " \n",
            "y\n",
            "o\n",
            " \n",
            "s\n",
            "o\n",
            "y\n",
            " \n",
            "m\n",
            "á\n",
            "s\n",
            " \n",
            "r\n",
            "á\n",
            "p\n",
            "i\n",
            "d\n",
            "o\n",
            "!\n",
            "!\n",
            "+\n",
            "fin\n"
          ]
        }
      ]
    },
    {
      "cell_type": "markdown",
      "metadata": {
        "id": "Oj9ysmp0GI-i"
      },
      "source": [
        "#Sclicing (rebanado)\n",
        "\n",
        "Es posible seleccionar segmentos de una lista (str) por medio de la sintaxis `[ <Inicio> : <Tope> : <Incremento>]`\n",
        "\n",
        "Por defecto: \n",
        "- Inicio = 0, -1\n",
        "- Tope = tamaño de la lista (str), -0.(No incluye el tope)\n",
        "- Incremento = 1, -1\n"
      ]
    },
    {
      "cell_type": "code",
      "metadata": {
        "colab": {
          "base_uri": "https://localhost:8080/"
        },
        "id": "NRFKb3TBHA3X",
        "outputId": "54758119-df77-40dc-bfb3-4e71be90860b"
      },
      "source": [
        "nombre = \"Facultad de Estudios Superiores Aragon\"\n",
        "\n",
        "print( nombre[0] )\n",
        "print( nombre[-1] )\n",
        "\n",
        "#slicing\n",
        "print( nombre[ 2 : 5 : 1 ] )\n",
        "print( nombre[ 0 : 8 : 1 ] )\n",
        "\n",
        "#slicing con indexado negativo (-)\n",
        "print( nombre[ -6 :  : 1 ] )\n",
        "\n",
        "\n",
        "print( nombre[  7 :  : -1 ] )"
      ],
      "execution_count": null,
      "outputs": [
        {
          "output_type": "stream",
          "name": "stdout",
          "text": [
            "F\n",
            "n\n",
            "cul\n",
            "Facultad\n",
            "Aragon\n",
            "datlucaF\n"
          ]
        }
      ]
    },
    {
      "cell_type": "markdown",
      "metadata": {
        "id": "rdx5jGyiKiWM"
      },
      "source": [
        "#String como objeto\n",
        "El tipo de dato string es una clase por lo tanto tiene atributos y metodos\n",
        "\n",
        "### Ayuda en linea de Python\n",
        "\n",
        "Hay dos funciones que te dan ayuda en python :\n",
        " 1. dir()\n",
        " 1. help()"
      ]
    },
    {
      "cell_type": "code",
      "metadata": {
        "colab": {
          "base_uri": "https://localhost:8080/"
        },
        "id": "YXz7MUduKyGx",
        "outputId": "7a27942d-777d-4967-8b30-bdef0025f7a6"
      },
      "source": [
        "dir(str)"
      ],
      "execution_count": null,
      "outputs": [
        {
          "output_type": "execute_result",
          "data": {
            "text/plain": [
              "['__add__',\n",
              " '__class__',\n",
              " '__contains__',\n",
              " '__delattr__',\n",
              " '__dir__',\n",
              " '__doc__',\n",
              " '__eq__',\n",
              " '__format__',\n",
              " '__ge__',\n",
              " '__getattribute__',\n",
              " '__getitem__',\n",
              " '__getnewargs__',\n",
              " '__gt__',\n",
              " '__hash__',\n",
              " '__init__',\n",
              " '__init_subclass__',\n",
              " '__iter__',\n",
              " '__le__',\n",
              " '__len__',\n",
              " '__lt__',\n",
              " '__mod__',\n",
              " '__mul__',\n",
              " '__ne__',\n",
              " '__new__',\n",
              " '__reduce__',\n",
              " '__reduce_ex__',\n",
              " '__repr__',\n",
              " '__rmod__',\n",
              " '__rmul__',\n",
              " '__setattr__',\n",
              " '__sizeof__',\n",
              " '__str__',\n",
              " '__subclasshook__',\n",
              " 'capitalize',\n",
              " 'casefold',\n",
              " 'center',\n",
              " 'count',\n",
              " 'encode',\n",
              " 'endswith',\n",
              " 'expandtabs',\n",
              " 'find',\n",
              " 'format',\n",
              " 'format_map',\n",
              " 'index',\n",
              " 'isalnum',\n",
              " 'isalpha',\n",
              " 'isascii',\n",
              " 'isdecimal',\n",
              " 'isdigit',\n",
              " 'isidentifier',\n",
              " 'islower',\n",
              " 'isnumeric',\n",
              " 'isprintable',\n",
              " 'isspace',\n",
              " 'istitle',\n",
              " 'isupper',\n",
              " 'join',\n",
              " 'ljust',\n",
              " 'lower',\n",
              " 'lstrip',\n",
              " 'maketrans',\n",
              " 'partition',\n",
              " 'replace',\n",
              " 'rfind',\n",
              " 'rindex',\n",
              " 'rjust',\n",
              " 'rpartition',\n",
              " 'rsplit',\n",
              " 'rstrip',\n",
              " 'split',\n",
              " 'splitlines',\n",
              " 'startswith',\n",
              " 'strip',\n",
              " 'swapcase',\n",
              " 'title',\n",
              " 'translate',\n",
              " 'upper',\n",
              " 'zfill']"
            ]
          },
          "metadata": {},
          "execution_count": 32
        }
      ]
    },
    {
      "cell_type": "code",
      "metadata": {
        "colab": {
          "base_uri": "https://localhost:8080/"
        },
        "id": "Skvr-X2RLVCm",
        "outputId": "03737ab9-6f85-490f-a0fb-f9313ceec2f4"
      },
      "source": [
        "apellidos = \"garcía pérez\"\n",
        "\n",
        "print( apellidos.capitalize())\n",
        "print( apellidos.title())\n",
        "print( apellidos.find('a'))\n",
        "print( \"LOPEZ PEREZ\".lower())\n",
        "print( apellidos.upper())\n",
        "\n",
        "\n",
        "numeros = \"         1 ,     2   ,     3       ,4,5,6      \"\n",
        "numeros_divididos = numeros.strip().split(',')\n",
        "print( numeros_divididos )\n",
        "\n",
        "numeros_divididos[0] = numeros_divididos[0].strip()\n",
        "numeros_divididos[1] = numeros_divididos[1].strip()\n",
        "numeros_divididos[2] = numeros_divididos[2].strip()\n",
        "numeros_divididos[3] = numeros_divididos[3].strip()\n",
        "numeros_divididos[4] = numeros_divididos[4].strip()\n",
        "numeros_divididos[5] = numeros_divididos[5].strip()\n",
        "print( numeros_divididos )\n",
        "\n",
        "for elem in numeros_divididos:\n",
        "    print( elem)\n",
        "\n",
        "for index in range(6):\n",
        "    numeros_divididos[index] = numeros_divididos[index].strip()\n",
        "print( numeros_divididos)"
      ],
      "execution_count": null,
      "outputs": [
        {
          "output_type": "stream",
          "name": "stdout",
          "text": [
            "García pérez\n",
            "García Pérez\n",
            "1\n",
            "lopez perez\n",
            "GARCÍA PÉREZ\n",
            "['1 ', '     2   ', '     3       ', '4', '5', '6']\n",
            "['1', '2', '3', '4', '5', '6']\n",
            "1\n",
            "2\n",
            "3\n",
            "4\n",
            "5\n",
            "6\n",
            "['1', '2', '3', '4', '5', '6']\n"
          ]
        }
      ]
    },
    {
      "cell_type": "markdown",
      "metadata": {
        "id": "YboVkWcAPYCh"
      },
      "source": [
        "# Estructuras de control\n",
        "\n",
        "## if \n",
        "\n",
        "## if-else\n",
        "\n",
        "## switch - case (En python se implementa con IF)\n",
        "\n",
        "## for\n",
        "\n",
        "## while y do-while"
      ]
    },
    {
      "cell_type": "code",
      "metadata": {
        "colab": {
          "base_uri": "https://localhost:8080/"
        },
        "id": "1nb20ZLxPw2-",
        "outputId": "114631a3-ab4b-4759-ea53-f7ddc2114b6d"
      },
      "source": [
        "#if \n",
        "a = 12\n",
        "b = 2\n",
        "c = 44\n",
        "print( a > b)\n",
        "\n",
        "if a > b:\n",
        "  print( \"Estamos en el if\")\n",
        "  print( \"A es mayor que B\")\n",
        "print( \"Fin del programa\")\n",
        "\n",
        "###################\n",
        "if c > a:\n",
        "  if c > b:\n",
        "    print( \"C es el mayor de los 3\")\n",
        "\n",
        "if c>a and c>b:\n",
        "  print(\"C es el mayor de los 3\")\n",
        "\n",
        "\n",
        "# if else, cual de las 3 variables es la mayor\n",
        "if a>b:\n",
        "  if a>c:\n",
        "    print(\"A es la mayor\")\n",
        "  else:\n",
        "    print(\"C es la mayor\")\n",
        "else:\n",
        "  if b>c:\n",
        "    print(\"B es la mayor\")\n",
        "  else: \n",
        "    print(\"C es la mayor\")\n",
        "\n",
        "\n",
        "# if - else (elif) tiene una notacion especial cuando se encadenaif a>b:\n",
        "\n",
        "if a>b:\n",
        "  if a>c:\n",
        "    print(\"A es la mayor\")\n",
        "  else:\n",
        "    print(\"C es la mayor\")\n",
        "elif b > c:\n",
        "    print(\"B es la mayor\")\n",
        "else: \n",
        "    print(\"C es la mayor\")\n",
        "\n",
        "\n",
        "#  pedir al usuario un numero entre 1 y 7, e imprimir el dia de la semana\n",
        "opcion = int(input(\"Introduce un numero entre 1 y 7:\"))\n",
        "\n",
        "if opcion > 0 and opcion < 8:\n",
        "  if opcion == 1:\n",
        "    print(\"Lunes\")\n",
        "  elif opcion == 2:\n",
        "    print(\"Martes\")\n",
        "  elif opcion == 3:\n",
        "    print(\"Miercoles\")\n",
        "  elif opcion == 4:\n",
        "    print(\"Jueves\")\n",
        "  elif opcion == 5:\n",
        "    print(\"Viernes\")\n",
        "  elif opcion == 6:\n",
        "    print(\"Sabado\")\n",
        "  elif opcion == 7:\n",
        "    print(\"Domingo\")\n",
        "\n",
        "\n",
        "else:\n",
        "  print(\"Tu dato esta fuera de lo solicitado\")"
      ],
      "execution_count": null,
      "outputs": [
        {
          "output_type": "stream",
          "name": "stdout",
          "text": [
            "True\n",
            "Estamos en el if\n",
            "A es mayor que B\n",
            "Fin del programa\n",
            "C es el mayor de los 3\n",
            "C es el mayor de los 3\n",
            "C es la mayor\n",
            "C es la mayor\n",
            "Introduce un numero entre 1 y 7:8\n",
            "Tu dato esta fuera de lo solicitado\n"
          ]
        }
      ]
    },
    {
      "cell_type": "code",
      "metadata": {
        "colab": {
          "base_uri": "https://localhost:8080/"
        },
        "id": "qt8sdL3eUut0",
        "outputId": "1f21f374-ada0-4853-b0ea-6dd9601a04a7"
      },
      "source": [
        "# For y Range\n",
        "\n",
        "## range() es una funcion que te proporciona un enumerado\n",
        "\n",
        "algo = range(4, 10, 2)\n",
        "frutas = [ 'pera', 'manzana', 'aguacate', 'kiwi', 'platano']\n",
        "nombre = \"Santiago\"\n",
        "\n",
        "print(algo)\n",
        "\n",
        "for x in algo:    # for (int x = 4 ; x<10 ; x=x+2 )\n",
        "  print(x)\n",
        "\n",
        "for index in range(0,5,1):\n",
        "  print(frutas[index])\n",
        "\n",
        "\n",
        "# For e iteraciones (For-each)\n",
        "for fruit in frutas:\n",
        "  print(fruit)\n",
        "\n",
        "for letra in nombre:\n",
        "  print(letra.upper())\n",
        "\n",
        "\n",
        "  "
      ],
      "execution_count": null,
      "outputs": [
        {
          "output_type": "stream",
          "name": "stdout",
          "text": [
            "range(4, 10, 2)\n",
            "4\n",
            "6\n",
            "8\n",
            "pera\n",
            "manzana\n",
            "aguacate\n",
            "kiwi\n",
            "platano\n",
            "pera\n",
            "manzana\n",
            "aguacate\n",
            "kiwi\n",
            "platano\n",
            "S\n",
            "A\n",
            "N\n",
            "T\n",
            "I\n",
            "A\n",
            "G\n",
            "O\n"
          ]
        }
      ]
    },
    {
      "cell_type": "code",
      "metadata": {
        "colab": {
          "base_uri": "https://localhost:8080/"
        },
        "id": "atgXzSvAX7Rd",
        "outputId": "d88936dc-f79f-4a95-a19a-d5100e0a0390"
      },
      "source": [
        "# while\n",
        "\n",
        "# hacer un programa que imprima del 1 al 10\n",
        "control = 1\n",
        "\n",
        "while control <= 10:\n",
        "  print( control )\n",
        "  control += 1\n",
        "\n",
        "\n"
      ],
      "execution_count": null,
      "outputs": [
        {
          "output_type": "stream",
          "name": "stdout",
          "text": [
            "1\n",
            "2\n",
            "3\n",
            "4\n",
            "5\n",
            "6\n",
            "7\n",
            "8\n",
            "9\n",
            "10\n"
          ]
        }
      ]
    },
    {
      "cell_type": "markdown",
      "metadata": {
        "id": "gp5xloTNY7ok"
      },
      "source": [
        "# Funciones\n",
        "\n",
        "Es un segmento de codigo que recibe, cero o mas valores de entrada, realiza una o un conjunto de operaciones de forma interna y regresa un soo tipo de dato; aunque ese valor sea None(Void)\n",
        "\n",
        "Las funciones se declaran con la palabra reservada **def**"
      ]
    },
    {
      "cell_type": "code",
      "metadata": {
        "colab": {
          "base_uri": "https://localhost:8080/"
        },
        "id": "0nUhABgxZk1c",
        "outputId": "368d6e31-edcd-403e-c27f-5c5322160600"
      },
      "source": [
        "## funcion suma\n",
        "\n",
        "def suma(a , b):\n",
        "  c = 0\n",
        "  c = a+b\n",
        "  return c\n",
        "\n",
        "print(suma( 4, 5))\n",
        "\n",
        "# funcion que salude personas\n",
        "\n",
        "def saludar( nombre ):\n",
        "  print(f\"Hola {nombre}, ¿Cómo estas?\")\n",
        "\n",
        "saludar (\"Jesus\")\n",
        "nombre = \"Santiago\"\n",
        "saludar(nombre)\n",
        "\n",
        "res = saludar (nombre)\n",
        "print(res)"
      ],
      "execution_count": null,
      "outputs": [
        {
          "output_type": "stream",
          "name": "stdout",
          "text": [
            "9\n",
            "Hola Jesus, ¿Cómo estas?\n",
            "Hola Santiago, ¿Cómo estas?\n",
            "Hola Santiago, ¿Cómo estas?\n",
            "None\n"
          ]
        }
      ]
    },
    {
      "cell_type": "markdown",
      "metadata": {
        "id": "VUnZnum5JOB7"
      },
      "source": [
        "# default y funciones\n",
        "Hay ocasiones que es necesario declarar  valores por defecto en los argumentos de una funcion."
      ]
    },
    {
      "cell_type": "code",
      "metadata": {
        "colab": {
          "base_uri": "https://localhost:8080/"
        },
        "id": "zLx4CzSuJgS0",
        "outputId": "0d7304c3-c4fa-4396-baf5-4ef56c96466e"
      },
      "source": [
        "def saludar( nombre, veces=5 ):\n",
        "  for x in range(veces):\n",
        "    print(f\"{ x }.-Hola {nombre }\")\n",
        "\n",
        "saludar( \"Juan\", 3 )\n",
        "\n",
        "# argumentos con llamadas no posicionales\n",
        "\n",
        "saludar( veces=6 , nombre=\"Juan\")\n",
        "\n"
      ],
      "execution_count": null,
      "outputs": [
        {
          "output_type": "stream",
          "name": "stdout",
          "text": [
            "0.-Hola Juan\n",
            "1.-Hola Juan\n",
            "2.-Hola Juan\n",
            "0.-Hola Juan\n",
            "1.-Hola Juan\n",
            "2.-Hola Juan\n",
            "3.-Hola Juan\n",
            "4.-Hola Juan\n",
            "5.-Hola Juan\n"
          ]
        }
      ]
    },
    {
      "cell_type": "markdown",
      "metadata": {
        "id": "yWg3WiNtMB_u"
      },
      "source": [
        "# Listas\n",
        "Son estructuras de datos declardas en python, funcionan como los arreglos en Java y C, con algunas diferencias.\n",
        "\n",
        "\n",
        "* Usan el selector [   ].\n",
        "* Estructura secuencial (0 ... n)\n",
        "* Son mutables. \n",
        "* Puede contener valores de diferente. tipo: [1 , \"manzana\" , True, 1.23].\n",
        "* Pueden ser anidados. (Multidimensional)\n",
        "* Se crean usando [   ]  y list()\n"
      ]
    },
    {
      "cell_type": "code",
      "metadata": {
        "colab": {
          "base_uri": "https://localhost:8080/"
        },
        "id": "Hzck0U2DM82V",
        "outputId": "6b119007-e31c-4da4-f0bc-ba335c163c18"
      },
      "source": [
        "frutas = [\"pera\", \"lima\", \"limon\", \"kiwi\", \"manzana\" ]\n",
        "print(frutas)\n",
        "print(frutas[1])\n",
        "frutas[1] = \"Mango\"\n",
        "print(frutas[1])\n",
        "persona = [\"Jose\", 1.78, 19, False, 70.5, \"ICO\"]\n",
        "print(persona)\n",
        "print(persona[-1])\n",
        "\n",
        "numeros = [2, 4, 6, 8, 10, 12, 14, 16, 18, 20]\n",
        "print(numeros)\n",
        "print(numeros [4:7])"
      ],
      "execution_count": null,
      "outputs": [
        {
          "output_type": "stream",
          "name": "stdout",
          "text": [
            "['pera', 'lima', 'limon', 'kiwi', 'manzana']\n",
            "lima\n",
            "Mango\n",
            "['Jose', 1.78, 19, False, 70.5, 'ICO']\n",
            "ICO\n",
            "[2, 4, 6, 8, 10, 12, 14, 16, 18, 20]\n",
            "[10, 12, 14]\n"
          ]
        }
      ]
    },
    {
      "cell_type": "code",
      "metadata": {
        "colab": {
          "base_uri": "https://localhost:8080/"
        },
        "id": "oBO7EZQiPIGt",
        "outputId": "bf8279f3-2e17-4b4e-b616-41e8e96eb2a8"
      },
      "source": [
        "#Listas multi dimencionales\n",
        "\n",
        "bds=[ \"mysql\", \"Oracle\", \"BD2\", \"mongo\", \"SQLite\"]\n",
        "leng_prog = [ \"C\", \"Java\", \"JS\", \"C++\", \"C#\", \"Python\" ]\n",
        "tecnologias = [bds, leng_prog]\n",
        "\n",
        "print(tecnologias)\n",
        "\"\"\"\n",
        "[\n",
        "  ['mysql', 'Oracle', 'BD2', 'mongo', 'SQLite'], \n",
        "  ['C', 'Java', 'JS', 'C++', 'C#', 'Python']\n",
        "]\n",
        "\n",
        "\"\"\"\n",
        "print( tecnologias [1][3]) #C++\n",
        "print( tecnologias [0][4]) #Sqlite\n",
        "print( tecnologias [0][-1]) #Sqlite\n",
        "print( tecnologias [1] [2:5])\n"
      ],
      "execution_count": null,
      "outputs": [
        {
          "output_type": "stream",
          "name": "stdout",
          "text": [
            "[['mysql', 'Oracle', 'BD2', 'mongo', 'SQLite'], ['C', 'Java', 'JS', 'C++', 'C#', 'Python']]\n",
            "C++\n",
            "SQLite\n",
            "SQLite\n",
            "['JS', 'C++', 'C#']\n"
          ]
        }
      ]
    },
    {
      "cell_type": "markdown",
      "metadata": {
        "id": "08HpAqy4SrVm"
      },
      "source": [
        "# La clase list \n",
        "\n",
        "El tipo de dato list en realidad es una clase que tiene metodo.\n"
      ]
    },
    {
      "cell_type": "code",
      "metadata": {
        "colab": {
          "base_uri": "https://localhost:8080/"
        },
        "id": "meQHKCocSy8X",
        "outputId": "5be811ff-ad9b-479c-bc2a-1eb2813438f3"
      },
      "source": [
        "numeros = [100, 23, 45, 23, 55, 1, 22, 101, 99, 10, 13]\n",
        "type( numeros )\n",
        "dir( numeros )\n",
        "print( numeros.sort() )\n",
        "print( numeros )\n",
        "numeros.reverse()\n",
        "print(numeros)\n",
        "# Eliminar elementos de un arreglo: 2 formas\n",
        "# Forma 1\n",
        "# utlizando el metodo remove\n",
        "numeros.remove(55)\n",
        "print(numeros)\n",
        "\n",
        "# Forma 2 es utilizando el operador del\n",
        "\n",
        "del numeros [3]\n",
        "print(numeros)\n",
        "\n",
        "#append agrega elementos al final\n",
        "\n",
        "numeros.append(0)\n",
        "numeros.append(33)\n",
        "\n",
        "#sort los acomoda de menor a mayor\n",
        "\n",
        "numeros.sort()\n",
        "\n",
        "#reverse los acomoda al revez\n",
        "\n",
        "numeros.reverse()\n",
        "print(numeros)\n",
        "\n",
        "#insert te ayuda a ingresar un valor en la posicion deseada.\n",
        "\n",
        "numeros.insert(3, 60)\n",
        "print(numeros)\n",
        "\n",
        "#pop elimina el ultimo valor\n",
        "\n",
        "n = numeros.pop()\n",
        "print(n)\n",
        "print(numeros)\n",
        "n = numeros.pop(1)\n",
        "print(n)\n",
        "print(numeros)\n",
        "\n",
        "#extend fuciona dos arreglos\n",
        "\n",
        "mas_numeros = [400, 500, 600, 700]\n",
        "numeros.extend(mas_numeros)\n",
        "print(numeros)\n",
        "\n",
        "#clear elimina los valores en la lista\n",
        "\n",
        "#numeros.clear()\n",
        "print( numeros)\n",
        "\n",
        "#Listas y la estructura de control FOR\n",
        "\n",
        "for num in numeros:\n",
        "  print( f\"--> {num} <--\")"
      ],
      "execution_count": null,
      "outputs": [
        {
          "output_type": "stream",
          "name": "stdout",
          "text": [
            "None\n",
            "[1, 10, 13, 22, 23, 23, 45, 55, 99, 100, 101]\n",
            "[101, 100, 99, 55, 45, 23, 23, 22, 13, 10, 1]\n",
            "[101, 100, 99, 45, 23, 23, 22, 13, 10, 1]\n",
            "[101, 100, 99, 23, 23, 22, 13, 10, 1]\n",
            "[101, 100, 99, 33, 23, 23, 22, 13, 10, 1, 0]\n",
            "[101, 100, 99, 60, 33, 23, 23, 22, 13, 10, 1, 0]\n",
            "0\n",
            "[101, 100, 99, 60, 33, 23, 23, 22, 13, 10, 1]\n",
            "100\n",
            "[101, 99, 60, 33, 23, 23, 22, 13, 10, 1]\n",
            "[101, 99, 60, 33, 23, 23, 22, 13, 10, 1, 400, 500, 600, 700]\n",
            "[101, 99, 60, 33, 23, 23, 22, 13, 10, 1, 400, 500, 600, 700]\n",
            "--> 101 <--\n",
            "--> 99 <--\n",
            "--> 60 <--\n",
            "--> 33 <--\n",
            "--> 23 <--\n",
            "--> 23 <--\n",
            "--> 22 <--\n",
            "--> 13 <--\n",
            "--> 10 <--\n",
            "--> 1 <--\n",
            "--> 400 <--\n",
            "--> 500 <--\n",
            "--> 600 <--\n",
            "--> 700 <--\n"
          ]
        }
      ]
    },
    {
      "cell_type": "markdown",
      "metadata": {
        "id": "VnTIpXORlQT8"
      },
      "source": [
        "# Tuplas\n",
        "\n",
        "* Estructura de datos lineal.\n",
        "* Se declaran con (      )\n",
        "* Son **inmutables**.\n",
        "* Usan menos espacio en memoria.\n",
        "* Son utiles para declarar valores de consulta.\n",
        "* Fuera de eso, las demas caracteristicas son las mismas que las LISTAS.\n"
      ]
    },
    {
      "cell_type": "code",
      "metadata": {
        "colab": {
          "base_uri": "https://localhost:8080/"
        },
        "id": "SZ39k6LBmQBd",
        "outputId": "7f75dc54-2c30-4fa4-aaa2-b0045dfb2a66"
      },
      "source": [
        "datos_conexion = (\"123.234.145.23\", \"Juan\", 'patito123')\n",
        "print( datos_conexion)\n",
        "#datos_conexion[0] = \"127.0.0.1\"\n",
        "dir(datos_conexion)"
      ],
      "execution_count": null,
      "outputs": [
        {
          "output_type": "stream",
          "name": "stdout",
          "text": [
            "('123.234.145.23', 'Juan', 'patito123')\n"
          ]
        },
        {
          "output_type": "execute_result",
          "data": {
            "text/plain": [
              "['__add__',\n",
              " '__class__',\n",
              " '__contains__',\n",
              " '__delattr__',\n",
              " '__dir__',\n",
              " '__doc__',\n",
              " '__eq__',\n",
              " '__format__',\n",
              " '__ge__',\n",
              " '__getattribute__',\n",
              " '__getitem__',\n",
              " '__getnewargs__',\n",
              " '__gt__',\n",
              " '__hash__',\n",
              " '__init__',\n",
              " '__init_subclass__',\n",
              " '__iter__',\n",
              " '__le__',\n",
              " '__len__',\n",
              " '__lt__',\n",
              " '__mul__',\n",
              " '__ne__',\n",
              " '__new__',\n",
              " '__reduce__',\n",
              " '__reduce_ex__',\n",
              " '__repr__',\n",
              " '__rmul__',\n",
              " '__setattr__',\n",
              " '__sizeof__',\n",
              " '__str__',\n",
              " '__subclasshook__',\n",
              " 'count',\n",
              " 'index']"
            ]
          },
          "metadata": {},
          "execution_count": 50
        }
      ]
    },
    {
      "cell_type": "markdown",
      "metadata": {
        "id": "wOgAD__8YCKx"
      },
      "source": [
        "# Diccinarios\n",
        "\n",
        "* Estructura no lineal\n",
        "* Formada por pare llave-valor {\"key\":valor}\n",
        "* Donde valor puede ser de cualqueir tipo,int, float, list, diccionario.\n",
        "* No se selecciona con [ numero  ] X\n",
        "* Su selector es por llave [key].\n",
        "* Son mutables.\n"
      ]
    },
    {
      "cell_type": "code",
      "metadata": {
        "colab": {
          "base_uri": "https://localhost:8080/"
        },
        "id": "bO6jiXL0Ynsn",
        "outputId": "cb605919-290f-4a81-a8cb-17ef3fea9e1f"
      },
      "source": [
        "persona = { \"nombre\" : \"Jose\", \"edad\": 19, \"estatura\" : 1.70}\n",
        "print(persona)\n",
        "print(f\"La estatura es: { persona ['estatura'] } metros\")\n",
        "estudiante = {\n",
        "          \"nombre\" : {\n",
        "                      \"nombre\" : [\"Juan\", \"Jose\"] ,\n",
        "                      \"paterno\": \"Perez\",\n",
        "                      \"materno\": \"Garcia\",\n",
        "                     },  \n",
        "          \"edad\": 19, \n",
        "          \"estatura\" : 1.70,\n",
        "          \"carrera\" : {\n",
        "                      \"Escuela\" : \"UNAM FES ARAGON\",\n",
        "                      \"Carrera\" : \"Ico\",\n",
        "                      \"Semestre\": 2,\n",
        "                      },\n",
        "          \"direccion\" : {\n",
        "                         \"calle\": \"Colorines\",\n",
        "                         \"num_exterior\": 34,\n",
        "                         \"interior\": \"apartamento b\",\n",
        "                        },\n",
        "          \"Telefono\" : {\n",
        "                        \"casa\": 5586877022,\n",
        "                        \"celular\": [\"+525586877022\", \"+525572558694\"],\n",
        "                       }             \n",
        "          \n",
        "           }\n",
        "print(estudiante['Telefono']['celular'][1])\n",
        "print(f\"La estatura es: {estudiante['estatura']}\")\n",
        "print(estudiante['direccion']['calle'])\n",
        "estudiante[ 'direccion']['calle'] = 'Pancho Lopez'\n",
        "print(estudiante['direccion'])\n",
        "estudiante[ 'direccion']['Colonia'] = 'Impulsora'\n",
        "print(estudiante['direccion'])\n",
        "# Combinar con la invocacion de metodos de los valores.\n",
        "# Mostrar el nombre del estudiante en mayusculas\n",
        "print(estudiante['nombre']['nombre'][0].upper(), estudiante['nombre']['nombre'][1].upper())\n",
        "\n",
        "# keys()\n",
        "llaves = estudiante.keys()\n",
        "print(llaves)\n",
        "print(\"-----------------------------------------\")\n",
        "for llave in llaves:\n",
        "  print(llave)\n",
        "  print(estudiante[llave])\n",
        "\n",
        "\n",
        "# values()\n",
        "print(\"--------------values()-------------------\")\n",
        "vals = estudiante.values()\n",
        "for val in vals:\n",
        "  print(val)\n",
        "\n",
        "print(\"----------------items-------------------\")\n",
        "elems = estudiante.items()\n",
        "print(elems)\n",
        "\n",
        "for par in elems:\n",
        "  ##print(par)\n",
        "  print(par[1])\n",
        "# FIN al intro de diccionarios"
      ],
      "execution_count": null,
      "outputs": [
        {
          "output_type": "stream",
          "name": "stdout",
          "text": [
            "{'nombre': 'Jose', 'edad': 19, 'estatura': 1.7}\n",
            "La estatura es: 1.7 metros\n",
            "+525572558694\n",
            "La estatura es: 1.7\n",
            "Colorines\n",
            "{'calle': 'Pancho Lopez', 'num_exterior': 34, 'interior': 'apartamento b'}\n",
            "{'calle': 'Pancho Lopez', 'num_exterior': 34, 'interior': 'apartamento b', 'Colonia': 'Impulsora'}\n",
            "JUAN JOSE\n",
            "dict_keys(['nombre', 'edad', 'estatura', 'carrera', 'direccion', 'Telefono'])\n",
            "-----------------------------------------\n",
            "nombre\n",
            "{'nombre': ['Juan', 'Jose'], 'paterno': 'Perez', 'materno': 'Garcia'}\n",
            "edad\n",
            "19\n",
            "estatura\n",
            "1.7\n",
            "carrera\n",
            "{'Escuela': 'UNAM FES ARAGON', 'Carrera': 'Ico', 'Semestre': 2}\n",
            "direccion\n",
            "{'calle': 'Pancho Lopez', 'num_exterior': 34, 'interior': 'apartamento b', 'Colonia': 'Impulsora'}\n",
            "Telefono\n",
            "{'casa': 5586877022, 'celular': ['+525586877022', '+525572558694']}\n",
            "--------------values()-------------------\n",
            "{'nombre': ['Juan', 'Jose'], 'paterno': 'Perez', 'materno': 'Garcia'}\n",
            "19\n",
            "1.7\n",
            "{'Escuela': 'UNAM FES ARAGON', 'Carrera': 'Ico', 'Semestre': 2}\n",
            "{'calle': 'Pancho Lopez', 'num_exterior': 34, 'interior': 'apartamento b', 'Colonia': 'Impulsora'}\n",
            "{'casa': 5586877022, 'celular': ['+525586877022', '+525572558694']}\n",
            "----------------items-------------------\n",
            "dict_items([('nombre', {'nombre': ['Juan', 'Jose'], 'paterno': 'Perez', 'materno': 'Garcia'}), ('edad', 19), ('estatura', 1.7), ('carrera', {'Escuela': 'UNAM FES ARAGON', 'Carrera': 'Ico', 'Semestre': 2}), ('direccion', {'calle': 'Pancho Lopez', 'num_exterior': 34, 'interior': 'apartamento b', 'Colonia': 'Impulsora'}), ('Telefono', {'casa': 5586877022, 'celular': ['+525586877022', '+525572558694']})])\n",
            "{'nombre': ['Juan', 'Jose'], 'paterno': 'Perez', 'materno': 'Garcia'}\n",
            "19\n",
            "1.7\n",
            "{'Escuela': 'UNAM FES ARAGON', 'Carrera': 'Ico', 'Semestre': 2}\n",
            "{'calle': 'Pancho Lopez', 'num_exterior': 34, 'interior': 'apartamento b', 'Colonia': 'Impulsora'}\n",
            "{'casa': 5586877022, 'celular': ['+525586877022', '+525572558694']}\n"
          ]
        }
      ]
    },
    {
      "cell_type": "code",
      "metadata": {
        "colab": {
          "base_uri": "https://localhost:8080/"
        },
        "id": "FlkZ_5bNh58e",
        "outputId": "37f75127-8642-4de7-b893-787f90378cdb"
      },
      "source": [
        "help(estudiante)\n",
        "#dir(estudiante['nombre']['nombre'][1])"
      ],
      "execution_count": null,
      "outputs": [
        {
          "output_type": "stream",
          "name": "stdout",
          "text": [
            "Help on dict object:\n",
            "\n",
            "class dict(object)\n",
            " |  dict() -> new empty dictionary\n",
            " |  dict(mapping) -> new dictionary initialized from a mapping object's\n",
            " |      (key, value) pairs\n",
            " |  dict(iterable) -> new dictionary initialized as if via:\n",
            " |      d = {}\n",
            " |      for k, v in iterable:\n",
            " |          d[k] = v\n",
            " |  dict(**kwargs) -> new dictionary initialized with the name=value pairs\n",
            " |      in the keyword argument list.  For example:  dict(one=1, two=2)\n",
            " |  \n",
            " |  Methods defined here:\n",
            " |  \n",
            " |  __contains__(self, key, /)\n",
            " |      True if the dictionary has the specified key, else False.\n",
            " |  \n",
            " |  __delitem__(self, key, /)\n",
            " |      Delete self[key].\n",
            " |  \n",
            " |  __eq__(self, value, /)\n",
            " |      Return self==value.\n",
            " |  \n",
            " |  __ge__(self, value, /)\n",
            " |      Return self>=value.\n",
            " |  \n",
            " |  __getattribute__(self, name, /)\n",
            " |      Return getattr(self, name).\n",
            " |  \n",
            " |  __getitem__(...)\n",
            " |      x.__getitem__(y) <==> x[y]\n",
            " |  \n",
            " |  __gt__(self, value, /)\n",
            " |      Return self>value.\n",
            " |  \n",
            " |  __init__(self, /, *args, **kwargs)\n",
            " |      Initialize self.  See help(type(self)) for accurate signature.\n",
            " |  \n",
            " |  __iter__(self, /)\n",
            " |      Implement iter(self).\n",
            " |  \n",
            " |  __le__(self, value, /)\n",
            " |      Return self<=value.\n",
            " |  \n",
            " |  __len__(self, /)\n",
            " |      Return len(self).\n",
            " |  \n",
            " |  __lt__(self, value, /)\n",
            " |      Return self<value.\n",
            " |  \n",
            " |  __ne__(self, value, /)\n",
            " |      Return self!=value.\n",
            " |  \n",
            " |  __repr__(self, /)\n",
            " |      Return repr(self).\n",
            " |  \n",
            " |  __setitem__(self, key, value, /)\n",
            " |      Set self[key] to value.\n",
            " |  \n",
            " |  __sizeof__(...)\n",
            " |      D.__sizeof__() -> size of D in memory, in bytes\n",
            " |  \n",
            " |  clear(...)\n",
            " |      D.clear() -> None.  Remove all items from D.\n",
            " |  \n",
            " |  copy(...)\n",
            " |      D.copy() -> a shallow copy of D\n",
            " |  \n",
            " |  get(self, key, default=None, /)\n",
            " |      Return the value for key if key is in the dictionary, else default.\n",
            " |  \n",
            " |  items(...)\n",
            " |      D.items() -> a set-like object providing a view on D's items\n",
            " |  \n",
            " |  keys(...)\n",
            " |      D.keys() -> a set-like object providing a view on D's keys\n",
            " |  \n",
            " |  pop(...)\n",
            " |      D.pop(k[,d]) -> v, remove specified key and return the corresponding value.\n",
            " |      If key is not found, d is returned if given, otherwise KeyError is raised\n",
            " |  \n",
            " |  popitem(...)\n",
            " |      D.popitem() -> (k, v), remove and return some (key, value) pair as a\n",
            " |      2-tuple; but raise KeyError if D is empty.\n",
            " |  \n",
            " |  setdefault(self, key, default=None, /)\n",
            " |      Insert key with a value of default if key is not in the dictionary.\n",
            " |      \n",
            " |      Return the value for key if key is in the dictionary, else default.\n",
            " |  \n",
            " |  update(...)\n",
            " |      D.update([E, ]**F) -> None.  Update D from dict/iterable E and F.\n",
            " |      If E is present and has a .keys() method, then does:  for k in E: D[k] = E[k]\n",
            " |      If E is present and lacks a .keys() method, then does:  for k, v in E: D[k] = v\n",
            " |      In either case, this is followed by: for k in F:  D[k] = F[k]\n",
            " |  \n",
            " |  values(...)\n",
            " |      D.values() -> an object providing a view on D's values\n",
            " |  \n",
            " |  ----------------------------------------------------------------------\n",
            " |  Class methods defined here:\n",
            " |  \n",
            " |  fromkeys(iterable, value=None, /) from builtins.type\n",
            " |      Create a new dictionary with keys from iterable and values set to value.\n",
            " |  \n",
            " |  ----------------------------------------------------------------------\n",
            " |  Static methods defined here:\n",
            " |  \n",
            " |  __new__(*args, **kwargs) from builtins.type\n",
            " |      Create and return a new object.  See help(type) for accurate signature.\n",
            " |  \n",
            " |  ----------------------------------------------------------------------\n",
            " |  Data and other attributes defined here:\n",
            " |  \n",
            " |  __hash__ = None\n",
            "\n"
          ]
        }
      ]
    },
    {
      "cell_type": "markdown",
      "metadata": {
        "id": "4X2GD3Ano6vK"
      },
      "source": [
        "# Funciones 2a parte (El  rencuentro)\n",
        "\n",
        "### Declarar funciones combinandola con **duplas**\n",
        "Se puede recibir una lista de argumentos dinamica que se almacenara en una dupla Para ello se utiliza un operador especial que es '*' en la declaracion de l a funcion.\n",
        "\n",
        "`\n",
        "def mi_ funcion( *algo ):\n",
        "    print(algo)\n",
        "`"
      ]
    },
    {
      "cell_type": "code",
      "metadata": {
        "colab": {
          "base_uri": "https://localhost:8080/"
        },
        "id": "ZAx-Qh52p91_",
        "outputId": "987b71df-d81c-46a6-94ef-11c44652e76d"
      },
      "source": [
        "def mi_funcion( *argumentos):\n",
        "  print(argumentos)\n",
        "\n",
        "mi_funcion(1,2, \"hhhh\") \n",
        "\n",
        "def suma_v2( *vals):\n",
        "  suma = 0\n",
        "  for valor in vals:\n",
        "    suma += valor\n",
        "  print(suma)\n",
        "\n",
        "suma_v2(5,5,7,8,9,9,5,4,2,3,4)"
      ],
      "execution_count": null,
      "outputs": [
        {
          "output_type": "stream",
          "name": "stdout",
          "text": [
            "(1, 2, 'hhhh')\n",
            "61\n"
          ]
        }
      ]
    },
    {
      "cell_type": "markdown",
      "metadata": {
        "id": "njOhPOFSsXDq"
      },
      "source": [
        "### Declarar funciones combinandola con **diccionarios**\n",
        "`\n",
        "def mi_funcion( **argumentos ):\n",
        "  print(argumentos) #argumentos es un diccionario\n",
        "`"
      ]
    },
    {
      "cell_type": "code",
      "metadata": {
        "id": "SApTyPP4tMoS",
        "colab": {
          "base_uri": "https://localhost:8080/"
        },
        "outputId": "437cef6a-4a98-41b6-883e-e650473bf460"
      },
      "source": [
        "def mi_funcion( **argumentos):\n",
        "  print(argumentos)\n",
        "\n",
        "mi_funcion( nombre=\"Jose\", edad= 19)"
      ],
      "execution_count": null,
      "outputs": [
        {
          "output_type": "stream",
          "name": "stdout",
          "text": [
            "{'nombre': 'Jose', 'edad': 19}\n"
          ]
        }
      ]
    },
    {
      "cell_type": "markdown",
      "metadata": {
        "id": "HgWQchLbKmEI"
      },
      "source": [
        "# Modulos\n",
        "Un modulo en python es equivalente a un package en Java o un archivo .h en C.\n",
        "\n",
        "En este, se declara codigo que quieras llamar varias veces, este codigo debe estar empaquetado principalmete en funciones.\n"
      ]
    },
    {
      "cell_type": "code",
      "metadata": {
        "colab": {
          "base_uri": "https://localhost:8080/"
        },
        "id": "2b8jv2tdNWHt",
        "outputId": "0037b498-94fe-4314-a179-6f7b4eb59d49"
      },
      "source": [
        "import mimodulo\n",
        "\n",
        "mimodulo.mi_suma( 3 , 4)\n",
        "\n",
        "mimodulo.mi_print(\"hola k ase\")\n",
        "mimodulo.al_reves(\"hola k ase\")"
      ],
      "execution_count": null,
      "outputs": [
        {
          "output_type": "stream",
          "name": "stdout",
          "text": [
            "Haciendo una suma\n",
            "La suma de 3 + 4 = 7\n",
            "HOLA K ASE\n",
            "esa k aloh\n"
          ]
        }
      ]
    },
    {
      "cell_type": "code",
      "metadata": {
        "colab": {
          "base_uri": "https://localhost:8080/"
        },
        "id": "1Tphi1mMQ1GC",
        "outputId": "e8a372fc-917c-4a8c-ebb5-714bec8f2f21"
      },
      "source": [
        "from mimodulo import mi_print\n",
        "from mimodulo import mi_suma\n",
        "from mimodulo import al_reves\n",
        "\n",
        "mi_print(\"Hola de nuevo mi chavo\")\n",
        "mi_suma( 5, 6)\n",
        "al_reves(\"este mensaje esta al revez\")"
      ],
      "execution_count": null,
      "outputs": [
        {
          "output_type": "stream",
          "name": "stdout",
          "text": [
            "HOLA DE NUEVO MI CHAVO\n",
            "Haciendo una suma\n",
            "La suma de 5 + 6 = 11\n",
            "zever la atse ejasnem etse\n"
          ]
        }
      ]
    },
    {
      "cell_type": "code",
      "metadata": {
        "colab": {
          "base_uri": "https://localhost:8080/"
        },
        "id": "7RUhMOR1SAY7",
        "outputId": "f0671b76-9a27-4719-e9aa-3f9357d3d431"
      },
      "source": [
        "import sys\n",
        "#dir(sys)\n",
        "print(sys.path)\n"
      ],
      "execution_count": null,
      "outputs": [
        {
          "output_type": "stream",
          "name": "stdout",
          "text": [
            "['', '/content', '/env/python', '/usr/lib/python37.zip', '/usr/lib/python3.7', '/usr/lib/python3.7/lib-dynload', '/usr/local/lib/python3.7/dist-packages', '/usr/lib/python3/dist-packages', '/usr/local/lib/python3.7/dist-packages/IPython/extensions', '/root/.ipython']\n"
          ]
        }
      ]
    },
    {
      "cell_type": "code",
      "metadata": {
        "colab": {
          "base_uri": "https://localhost:8080/"
        },
        "id": "oUdb96l_TzKw",
        "outputId": "f6aa66db-2ee3-43d0-cf0f-0c261be2b81b"
      },
      "source": [
        "!pip install simple-chalk"
      ],
      "execution_count": null,
      "outputs": [
        {
          "output_type": "stream",
          "name": "stdout",
          "text": [
            "Collecting simple-chalk\n",
            "  Downloading simple_chalk-0.1.0.tar.gz (13 kB)\n",
            "Building wheels for collected packages: simple-chalk\n",
            "  Building wheel for simple-chalk (setup.py) ... \u001b[?25l\u001b[?25hdone\n",
            "  Created wheel for simple-chalk: filename=simple_chalk-0.1.0-py3-none-any.whl size=22163 sha256=4b45c74aa1951f75ce204546847e65207e6c16df4d872bf9567e636f36393e03\n",
            "  Stored in directory: /root/.cache/pip/wheels/24/e2/84/d54838032016039eef79df1137b91defaa6db068d825dfcdcd\n",
            "Successfully built simple-chalk\n",
            "Installing collected packages: simple-chalk\n",
            "Successfully installed simple-chalk-0.1.0\n"
          ]
        }
      ]
    },
    {
      "cell_type": "code",
      "metadata": {
        "colab": {
          "base_uri": "https://localhost:8080/"
        },
        "id": "dX56CXxpUW81",
        "outputId": "b821cc7d-3536-4a31-ba9e-59e60e752290"
      },
      "source": [
        "from simple_chalk import *\n",
        "print(chalk.blue(\"Texto en azul\"))\n",
        "whyNot = green.bgWhite.red.bgGray\n",
        "print(whyNot(\"this is red text with a gray background\"))\n",
        "verde_sobre_negro = bgBlack.green\n",
        "print(verde_sobre_negro(\"test\"))"
      ],
      "execution_count": null,
      "outputs": [
        {
          "output_type": "stream",
          "name": "stdout",
          "text": [
            "\u001b[34mTexto en azul\u001b[0m\n",
            "\u001b[31;100mthis is red text with a gray background\u001b[0m\n",
            "\u001b[40;32mtest\u001b[0m\n"
          ]
        }
      ]
    },
    {
      "cell_type": "markdown",
      "metadata": {
        "id": "LXAL6YUVW6ov"
      },
      "source": [
        "# Archivos\n",
        "Para abrir un archivo se utiliza la funcion open('nombre','AB')\n",
        "nombre = La ruta del archivo \n",
        "A = Modo de apertura (w, r, a, ...)\n",
        "B = Formato t(texto) o b(binario)\n",
        "\n",
        "Para leer tenemos las funciones:\n",
        "\n",
        "- read()\n",
        "- readline()\n",
        "- readlines()\n",
        "\n"
      ]
    },
    {
      "cell_type": "code",
      "metadata": {
        "colab": {
          "base_uri": "https://localhost:8080/"
        },
        "id": "TRSVs9YVYz7W",
        "outputId": "78b71d6f-4c37-4515-e919-6a0c321d066f"
      },
      "source": [
        "!cat datos.dat"
      ],
      "execution_count": null,
      "outputs": [
        {
          "output_type": "stream",
          "name": "stdout",
          "text": [
            "1,2,3,4,5,6,7\r\n",
            "8,9,10\r\n",
            "11,12\r\n",
            "13"
          ]
        }
      ]
    },
    {
      "cell_type": "code",
      "metadata": {
        "colab": {
          "base_uri": "https://localhost:8080/"
        },
        "id": "5GgANXYBYSJH",
        "outputId": "21d7c016-a8ff-45cc-fa43-369ae3e11e6d"
      },
      "source": [
        "\"\"\"\n",
        "1,2,3,4,5,6,7\n",
        "8,9,10\n",
        "11,12\n",
        "13\n",
        "\"\"\"\n",
        "archivo = open('datos.dat', 'rt', )\n",
        "info = archivo.read()\n",
        "print(info)\n",
        "\n",
        "#readline()\n",
        "print(\"----------------------readline()-----------------------------------------\")\n",
        "archivo = open('datos.dat', 'rt', )\n",
        "info = archivo.readline()\n",
        "print(info)\n",
        "info = archivo.readline()\n",
        "print(info)\n",
        "\n",
        "#readlines()\n",
        "print(\"----------------------readlines()-----------------------------------------\")\n",
        "archivo = open('datos.dat', 'rt', )\n",
        "info = archivo.readlines()\n",
        "print(info)\n",
        "for index in range(len(info)):\n",
        "  info[index] = info [index].strip()\n",
        "\n",
        "print(info)\n",
        "\n",
        "numeros = []\n",
        "\n",
        "for grupo in info:\n",
        "  for numero in grupo.split(','):\n",
        "    numeros.append(int(numero))\n",
        "print(numeros)\n",
        "\n",
        "suma= 0\n",
        "for num in numeros:\n",
        "  suma+= num\n",
        "\n",
        "print(suma)"
      ],
      "execution_count": null,
      "outputs": [
        {
          "output_type": "stream",
          "name": "stdout",
          "text": [
            "1,2,3,4,5,6,7\n",
            "8,9,10\n",
            "11,12\n",
            "13\n",
            "----------------------readline()-----------------------------------------\n",
            "1,2,3,4,5,6,7\n",
            "\n",
            "8,9,10\n",
            "\n",
            "----------------------readlines()-----------------------------------------\n",
            "['1,2,3,4,5,6,7\\n', '8,9,10\\n', '11,12\\n', '13']\n",
            "['1,2,3,4,5,6,7', '8,9,10', '11,12', '13']\n",
            "[1, 2, 3, 4, 5, 6, 7, 8, 9, 10, 11, 12, 13]\n",
            "91\n"
          ]
        }
      ]
    },
    {
      "cell_type": "markdown",
      "metadata": {
        "id": "MjbCrzfZfJ6u"
      },
      "source": [
        "# Prgogramacioon Orientada a Objetos con python.\n",
        "\n",
        "La POO es un paradigma no soportado originalmnete por Python, Python maneja el paradigma Imperativo.\n",
        "\n",
        "Python simula la POO con la declaracion de clases y haciendo referencias a un objeto de forma circular. **self** en python es equivalente a this de java\n",
        "\n",
        "\n",
        "1. Forma 1:\n",
        "\n",
        "`\n",
        "class <Nombre de la clase>:\n",
        "      <definicion de la clase>\n",
        "`\n",
        "2. Forma 2:\n",
        "\n",
        "`\n",
        "class <nombre de la clase>(<Super clase>):\n",
        "      <Definicion del cuerpo de la clase>\n",
        "`\n",
        "\n",
        "El constructor se define siempre con el metodo __init__() (DOBLE GUION BAJO ANTES Y DESPUES DEL init)\n",
        "\n",
        "La declaracion de atributos se realiza por medio de el constructor.\n",
        "\n",
        "Para hacer encapsulamientos de metodos o atributos, se debe poner __ (DOBLE GUINON BAJO) previo a la declaracion del atributo o metodo."
      ]
    },
    {
      "cell_type": "code",
      "metadata": {
        "id": "_KocfdLchl4r"
      },
      "source": [
        "class persona:\n",
        "  def __init__( self , n, e, est ):\n",
        "    self.__nombre = n\n",
        "    self.__edad = e\n",
        "    self.__estatura = est\n",
        "\n",
        "  def to_string( self ):\n",
        "    return \"Nombre: \" + self.__nombre + \", Edad: \" + str(self.__edad) + \" Estatura: \" + str(self.__estatura)\n",
        "\n",
        "  def set_estatura( self, nueva_est):\n",
        "    if nueva_est > 0.10 and nueva_est < 2.5 : \n",
        "      self.__estatura = nueva_est\n",
        "\n",
        "    else: \n",
        "      print(\"Error: Esa estatura no es posible.\")\n",
        "\n",
        "  def get_estatura( self ):\n",
        "    return self.__estatura"
      ],
      "execution_count": 68,
      "outputs": []
    },
    {
      "cell_type": "code",
      "metadata": {
        "colab": {
          "base_uri": "https://localhost:8080/"
        },
        "id": "yO5EcJfciqdJ",
        "outputId": "c13356ea-b276-4e63-c7f6-a60d3d38caa3"
      },
      "source": [
        "per = persona(\"Jose\", 19, 1.70) \n",
        "print(per.to_string())\n",
        "\n",
        "# Encapsulamiento\n",
        "\n",
        "per.nombre = \"Pedro\"    #ESTO NO SE RECOMIENDA\n",
        "print(per.to_string())\n",
        "\n",
        "#per.estatura = 3.9\n",
        "per.set_estatura(3.9)\n",
        "print(per.to_string())\n",
        "\n",
        "print(\"Estatura: \", end=\"\")\n",
        "#print( per.__estatura )\n",
        "print( per.get_estatura() )\n"
      ],
      "execution_count": 69,
      "outputs": [
        {
          "output_type": "stream",
          "name": "stdout",
          "text": [
            "Nombre: Jose, Edad: 19 Estatura: 1.7\n",
            "Nombre: Jose, Edad: 19 Estatura: 1.7\n",
            "Error: Esa estatura no es posible.\n",
            "Nombre: Jose, Edad: 19 Estatura: 1.7\n",
            "Estatura: 1.7\n"
          ]
        }
      ]
    },
    {
      "cell_type": "code",
      "metadata": {
        "id": "zHXhpz6tqrgi"
      },
      "source": [
        "class Estudiante( persona ):\n",
        "  def __init__( self, nc, nombre, edad, est ):\n",
        "    self.__num_cta = nc\n",
        "    super().__init__(nombre, edad, est)\n",
        "\n",
        "  def to_string( self ):\n",
        "    return super().to_string() + \" Numero de cta. : \" + self.__num_cta\n"
      ],
      "execution_count": 70,
      "outputs": []
    },
    {
      "cell_type": "code",
      "metadata": {
        "colab": {
          "base_uri": "https://localhost:8080/"
        },
        "id": "5Ysz4uUarLaI",
        "outputId": "448c00ae-40c0-4be9-963c-f602504d569d"
      },
      "source": [
        "est = Estudiante( \"212020202\", \"Jose\", 18, 1.7)\n",
        "print( est.to_string() )"
      ],
      "execution_count": 72,
      "outputs": [
        {
          "output_type": "stream",
          "name": "stdout",
          "text": [
            "Nombre: Jose, Edad: 18 Estatura: 1.7 Numero de cta. : 212020202\n"
          ]
        }
      ]
    }
  ]
}